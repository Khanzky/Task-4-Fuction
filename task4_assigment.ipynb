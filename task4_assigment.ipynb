{
 "cells": [
  {
   "cell_type": "code",
   "execution_count": 3,
   "metadata": {},
   "outputs": [
    {
     "name": "stdout",
     "output_type": "stream",
     "text": [
      "QIIX QI FC XLI VSWI FYWLIW XSRMKLX.\n"
     ]
    }
   ],
   "source": [
    "def teks_pengganti(pesan, key):\n",
    "    tambahan = ''\n",
    "    alfabet = \"ABCDEFGHIJKLMNOPQRSTUVWXYZ\"\n",
    "    for karakter in pesan.upper():\n",
    "        if karakter.isalpha():\n",
    "            tambahan += alfabet[alfabet.index(karakter)-26+key]\n",
    "        else:\n",
    "            tambahan += karakter\n",
    "    return tambahan\n",
    "\n",
    "if __name__ == '__main__':\n",
    "    pesan = \"Meet me by the rose bushes tonight.\"\n",
    "    key = 4\n",
    "    tambahan = teks_pengganti(pesan, key)\n",
    "    print(tambahan)"
   ]
  }
 ],
 "metadata": {
  "kernelspec": {
   "display_name": "Python 3",
   "language": "python",
   "name": "python3"
  },
  "language_info": {
   "codemirror_mode": {
    "name": "ipython",
    "version": 3
   },
   "file_extension": ".py",
   "mimetype": "text/x-python",
   "name": "python",
   "nbconvert_exporter": "python",
   "pygments_lexer": "ipython3",
   "version": "3.9.13"
  },
  "orig_nbformat": 4
 },
 "nbformat": 4,
 "nbformat_minor": 2
}
